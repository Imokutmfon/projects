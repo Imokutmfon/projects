{
 "cells": [
  {
   "cell_type": "code",
   "execution_count": 1,
   "id": "7fd777a1",
   "metadata": {
    "_cell_guid": "b1076dfc-b9ad-4769-8c92-a6c4dae69d19",
    "_uuid": "8f2839f25d086af736a60e9eeb907d3b93b6e0e5",
    "execution": {
     "iopub.execute_input": "2025-03-21T09:14:11.241094Z",
     "iopub.status.busy": "2025-03-21T09:14:11.240704Z",
     "iopub.status.idle": "2025-03-21T09:14:25.974040Z",
     "shell.execute_reply": "2025-03-21T09:14:25.973008Z"
    },
    "papermill": {
     "duration": 14.740729,
     "end_time": "2025-03-21T09:14:25.976348",
     "exception": false,
     "start_time": "2025-03-21T09:14:11.235619",
     "status": "completed"
    },
    "tags": []
   },
   "outputs": [],
   "source": [
    "#Import necessary libraries\n",
    "import tensorflow as tf\n",
    "from matplotlib import pyplot as plt\n",
    "import numpy as np\n",
    "import os\n",
    "import pandas as pd\n",
    "from tensorflow.keras import layers, models"
   ]
  },
  {
   "cell_type": "code",
   "execution_count": 2,
   "id": "1de5ec51",
   "metadata": {
    "execution": {
     "iopub.execute_input": "2025-03-21T09:14:25.986189Z",
     "iopub.status.busy": "2025-03-21T09:14:25.985083Z",
     "iopub.status.idle": "2025-03-21T09:14:26.913247Z",
     "shell.execute_reply": "2025-03-21T09:14:26.912178Z"
    },
    "papermill": {
     "duration": 0.935267,
     "end_time": "2025-03-21T09:14:26.915691",
     "exception": false,
     "start_time": "2025-03-21T09:14:25.980424",
     "status": "completed"
    },
    "tags": []
   },
   "outputs": [],
   "source": [
    "from sklearn.model_selection import train_test_split\n",
    "from sklearn.preprocessing import MinMaxScaler\n",
    "from sklearn.metrics import confusion_matrix, ConfusionMatrixDisplay"
   ]
  },
  {
   "cell_type": "code",
   "execution_count": 3,
   "id": "4193fe02",
   "metadata": {
    "execution": {
     "iopub.execute_input": "2025-03-21T09:14:26.924440Z",
     "iopub.status.busy": "2025-03-21T09:14:26.923472Z",
     "iopub.status.idle": "2025-03-21T09:15:43.235690Z",
     "shell.execute_reply": "2025-03-21T09:15:43.234759Z"
    },
    "papermill": {
     "duration": 76.31894,
     "end_time": "2025-03-21T09:15:43.238097",
     "exception": false,
     "start_time": "2025-03-21T09:14:26.919157",
     "status": "completed"
    },
    "tags": []
   },
   "outputs": [],
   "source": [
    "#Load datasets\n",
    "train_data = pd.read_csv('/kaggle/input/ecg-heartbeat-covid-19/heartbeat_125_lead_ii_train_validation_dataset.csv', header=None)\n",
    "test_data = pd.read_csv('/kaggle/input/ecg-heartbeat-covid-19/heartbeat_125_lead_ii_test_dataset.csv', header=None)\n"
   ]
  },
  {
   "cell_type": "code",
   "execution_count": 4,
   "id": "71d238cd",
   "metadata": {
    "execution": {
     "iopub.execute_input": "2025-03-21T09:15:43.246458Z",
     "iopub.status.busy": "2025-03-21T09:15:43.246143Z",
     "iopub.status.idle": "2025-03-21T09:15:43.257076Z",
     "shell.execute_reply": "2025-03-21T09:15:43.256079Z"
    },
    "papermill": {
     "duration": 0.017214,
     "end_time": "2025-03-21T09:15:43.259128",
     "exception": false,
     "start_time": "2025-03-21T09:15:43.241914",
     "status": "completed"
    },
    "tags": []
   },
   "outputs": [],
   "source": [
    "X = train_data.iloc[:, :-1]\n",
    "y = train_data.iloc[:, -1]\n",
    "y = np.where(y == 4.0, 1, 0)"
   ]
  },
  {
   "cell_type": "code",
   "execution_count": 5,
   "id": "a18c713f",
   "metadata": {
    "execution": {
     "iopub.execute_input": "2025-03-21T09:15:43.267434Z",
     "iopub.status.busy": "2025-03-21T09:15:43.267065Z",
     "iopub.status.idle": "2025-03-21T09:15:43.292818Z",
     "shell.execute_reply": "2025-03-21T09:15:43.291732Z"
    },
    "papermill": {
     "duration": 0.032415,
     "end_time": "2025-03-21T09:15:43.295090",
     "exception": false,
     "start_time": "2025-03-21T09:15:43.262675",
     "status": "completed"
    },
    "tags": []
   },
   "outputs": [],
   "source": [
    "X_test = test_data.iloc[:, :-1]\n",
    "y_test = test_data.iloc[:, -1]\n",
    "y_test = np.where(y_test==4, 1, 0)"
   ]
  },
  {
   "cell_type": "code",
   "execution_count": 6,
   "id": "2f93d388",
   "metadata": {
    "execution": {
     "iopub.execute_input": "2025-03-21T09:15:43.304703Z",
     "iopub.status.busy": "2025-03-21T09:15:43.304098Z",
     "iopub.status.idle": "2025-03-21T09:15:43.314933Z",
     "shell.execute_reply": "2025-03-21T09:15:43.313902Z"
    },
    "papermill": {
     "duration": 0.018448,
     "end_time": "2025-03-21T09:15:43.316934",
     "exception": false,
     "start_time": "2025-03-21T09:15:43.298486",
     "status": "completed"
    },
    "tags": []
   },
   "outputs": [],
   "source": [
    "covid_count = np.sum(y == 1)\n",
    "non_covid_count = np.sum(y == 0)\n",
    "# Use class weights to handle imbalance\n",
    "class_weights = {0: len(y) / non_covid_count, 1: len(y) / covid_count}"
   ]
  },
  {
   "cell_type": "code",
   "execution_count": 7,
   "id": "7b0a10e7",
   "metadata": {
    "execution": {
     "iopub.execute_input": "2025-03-21T09:15:43.324929Z",
     "iopub.status.busy": "2025-03-21T09:15:43.324534Z",
     "iopub.status.idle": "2025-03-21T09:15:45.192590Z",
     "shell.execute_reply": "2025-03-21T09:15:45.191574Z"
    },
    "papermill": {
     "duration": 1.874846,
     "end_time": "2025-03-21T09:15:45.194945",
     "exception": false,
     "start_time": "2025-03-21T09:15:43.320099",
     "status": "completed"
    },
    "tags": []
   },
   "outputs": [],
   "source": [
    "X_train, X_val, y_train, y_val = train_test_split(X, y, test_size=0.2, random_state=4)"
   ]
  },
  {
   "cell_type": "code",
   "execution_count": 8,
   "id": "295834d1",
   "metadata": {
    "execution": {
     "iopub.execute_input": "2025-03-21T09:15:45.203074Z",
     "iopub.status.busy": "2025-03-21T09:15:45.202773Z",
     "iopub.status.idle": "2025-03-21T09:15:46.258470Z",
     "shell.execute_reply": "2025-03-21T09:15:46.257535Z"
    },
    "papermill": {
     "duration": 1.062428,
     "end_time": "2025-03-21T09:15:46.260844",
     "exception": false,
     "start_time": "2025-03-21T09:15:45.198416",
     "status": "completed"
    },
    "tags": []
   },
   "outputs": [],
   "source": [
    "def resnet_block(inputs, filters, kernel_size=3, strides=1):\n",
    "    x = layers.Conv1D(filters, kernel_size, strides=strides, padding=\"same\", activation=\"relu\")(inputs)\n",
    "    x = layers.BatchNormalization()(x)\n",
    "    x = layers.Conv1D(filters, kernel_size, strides=1, padding=\"same\")(x)\n",
    "    x = layers.BatchNormalization()(x)\n",
    "\n",
    "    shortcut = layers.Conv1D(filters, 1, strides=strides, padding=\"same\")(inputs)\n",
    "    shortcut = layers.BatchNormalization()(shortcut)\n",
    "\n",
    "    x = layers.add([x, shortcut])\n",
    "    x = layers.ReLU()(x)\n",
    "    return x\n",
    "\n",
    "# Build ResNet model\n",
    "input_dim = X_train.shape[1]\n",
    "input_layer = layers.Input(shape=(input_dim, 1))\n",
    "x = resnet_block(input_layer, 32)\n",
    "x = resnet_block(x, 64)\n",
    "x = layers.GlobalAveragePooling1D()(x)\n",
    "x = layers.Dense(128, activation='relu')(x)\n",
    "output_layer = layers.Dense(1, activation='sigmoid')(x)\n",
    "\n",
    "resnet_model = models.Model(input_layer, output_layer)\n"
   ]
  },
  {
   "cell_type": "code",
   "execution_count": 9,
   "id": "80dbfe97",
   "metadata": {
    "execution": {
     "iopub.execute_input": "2025-03-21T09:15:46.269519Z",
     "iopub.status.busy": "2025-03-21T09:15:46.269148Z",
     "iopub.status.idle": "2025-03-21T09:15:46.299831Z",
     "shell.execute_reply": "2025-03-21T09:15:46.298785Z"
    },
    "papermill": {
     "duration": 0.037678,
     "end_time": "2025-03-21T09:15:46.302193",
     "exception": false,
     "start_time": "2025-03-21T09:15:46.264515",
     "status": "completed"
    },
    "tags": []
   },
   "outputs": [],
   "source": [
    "resnet_model.compile(loss='binary_crossentropy', optimizer='adam', metrics=[\n",
    "    tf.keras.metrics.AUC(name=\"auc\"),\n",
    "    tf.keras.metrics.BinaryAccuracy(name=\"accuracy\"),\n",
    "    tf.keras.metrics.Precision(name='precision'),\n",
    "    tf.keras.metrics.Recall(name='recall')    \n",
    "])"
   ]
  },
  {
   "cell_type": "code",
   "execution_count": 10,
   "id": "feface58",
   "metadata": {
    "execution": {
     "iopub.execute_input": "2025-03-21T09:15:46.310280Z",
     "iopub.status.busy": "2025-03-21T09:15:46.309951Z",
     "iopub.status.idle": "2025-03-21T09:15:46.809332Z",
     "shell.execute_reply": "2025-03-21T09:15:46.808433Z"
    },
    "papermill": {
     "duration": 0.505995,
     "end_time": "2025-03-21T09:15:46.811572",
     "exception": false,
     "start_time": "2025-03-21T09:15:46.305577",
     "status": "completed"
    },
    "tags": []
   },
   "outputs": [],
   "source": [
    "# Ensure data is in NumPy array format before adding a new axis\n",
    "X_train_resnet = np.array(X_train)[..., np.newaxis]\n",
    "X_val_resnet = np.array(X_val)[..., np.newaxis]\n",
    "X_test_resnet = np.array(X_test)[..., np.newaxis]\n"
   ]
  },
  {
   "cell_type": "code",
   "execution_count": 11,
   "id": "272b8825",
   "metadata": {
    "execution": {
     "iopub.execute_input": "2025-03-21T09:15:46.820283Z",
     "iopub.status.busy": "2025-03-21T09:15:46.819936Z",
     "iopub.status.idle": "2025-03-21T09:44:20.949840Z",
     "shell.execute_reply": "2025-03-21T09:44:20.948675Z"
    },
    "papermill": {
     "duration": 1715.844061,
     "end_time": "2025-03-21T09:44:22.659178",
     "exception": false,
     "start_time": "2025-03-21T09:15:46.815117",
     "status": "completed"
    },
    "tags": []
   },
   "outputs": [
    {
     "name": "stdout",
     "output_type": "stream",
     "text": [
      "Epoch 1/10\n"
     ]
    },
    {
     "name": "stderr",
     "output_type": "stream",
     "text": [
      "WARNING: All log messages before absl::InitializeLog() is called are written to STDERR\n",
      "I0000 00:00:1742548553.227109      63 service.cc:145] XLA service 0x7b312801e660 initialized for platform CUDA (this does not guarantee that XLA will be used). Devices:\n",
      "I0000 00:00:1742548553.227170      63 service.cc:153]   StreamExecutor device (0): Tesla P100-PCIE-16GB, Compute Capability 6.0\n"
     ]
    },
    {
     "name": "stdout",
     "output_type": "stream",
     "text": [
      "\u001b[1m   39/39546\u001b[0m \u001b[37m━━━━━━━━━━━━━━━━━━━━\u001b[0m \u001b[1m2:42\u001b[0m 4ms/step - accuracy: 0.7333 - auc: 0.5548 - loss: 0.5384 - precision: 0.1891 - recall: 0.1234"
     ]
    },
    {
     "name": "stderr",
     "output_type": "stream",
     "text": [
      "I0000 00:00:1742548557.218094      63 device_compiler.h:188] Compiled cluster using XLA!  This line is logged at most once for the lifetime of the process.\n"
     ]
    },
    {
     "name": "stdout",
     "output_type": "stream",
     "text": [
      "\u001b[1m39546/39546\u001b[0m \u001b[32m━━━━━━━━━━━━━━━━━━━━\u001b[0m\u001b[37m\u001b[0m \u001b[1m179s\u001b[0m 4ms/step - accuracy: 0.8903 - auc: 0.9013 - loss: 0.2740 - precision: 0.8207 - recall: 0.5615 - val_accuracy: 0.9275 - val_auc: 0.9653 - val_loss: 0.1846 - val_precision: 0.8131 - val_recall: 0.8281\n",
      "Epoch 2/10\n",
      "\u001b[1m39546/39546\u001b[0m \u001b[32m━━━━━━━━━━━━━━━━━━━━\u001b[0m\u001b[37m\u001b[0m \u001b[1m169s\u001b[0m 4ms/step - accuracy: 0.9439 - auc: 0.9751 - loss: 0.1457 - precision: 0.9079 - recall: 0.8008 - val_accuracy: 0.9509 - val_auc: 0.9803 - val_loss: 0.1296 - val_precision: 0.9527 - val_recall: 0.7939\n",
      "Epoch 3/10\n",
      "\u001b[1m39546/39546\u001b[0m \u001b[32m━━━━━━━━━━━━━━━━━━━━\u001b[0m\u001b[37m\u001b[0m \u001b[1m168s\u001b[0m 4ms/step - accuracy: 0.9551 - auc: 0.9836 - loss: 0.1179 - precision: 0.9270 - recall: 0.8437 - val_accuracy: 0.9584 - val_auc: 0.9866 - val_loss: 0.1083 - val_precision: 0.9568 - val_recall: 0.8296\n",
      "Epoch 4/10\n",
      "\u001b[1m39546/39546\u001b[0m \u001b[32m━━━━━━━━━━━━━━━━━━━━\u001b[0m\u001b[37m\u001b[0m \u001b[1m171s\u001b[0m 4ms/step - accuracy: 0.9609 - auc: 0.9871 - loss: 0.1032 - precision: 0.9354 - recall: 0.8635 - val_accuracy: 0.9182 - val_auc: 0.9726 - val_loss: 0.2096 - val_precision: 0.7488 - val_recall: 0.8897\n",
      "Epoch 5/10\n",
      "\u001b[1m39546/39546\u001b[0m \u001b[32m━━━━━━━━━━━━━━━━━━━━\u001b[0m\u001b[37m\u001b[0m \u001b[1m169s\u001b[0m 4ms/step - accuracy: 0.9648 - auc: 0.9891 - loss: 0.0938 - precision: 0.9423 - recall: 0.8778 - val_accuracy: 0.9659 - val_auc: 0.9905 - val_loss: 0.0903 - val_precision: 0.9210 - val_recall: 0.9073\n",
      "Epoch 6/10\n",
      "\u001b[1m39546/39546\u001b[0m \u001b[32m━━━━━━━━━━━━━━━━━━━━\u001b[0m\u001b[37m\u001b[0m \u001b[1m169s\u001b[0m 4ms/step - accuracy: 0.9674 - auc: 0.9905 - loss: 0.0872 - precision: 0.9455 - recall: 0.8876 - val_accuracy: 0.9652 - val_auc: 0.9885 - val_loss: 0.0943 - val_precision: 0.9388 - val_recall: 0.8838\n",
      "Epoch 7/10\n",
      "\u001b[1m39546/39546\u001b[0m \u001b[32m━━━━━━━━━━━━━━━━━━━━\u001b[0m\u001b[37m\u001b[0m \u001b[1m170s\u001b[0m 4ms/step - accuracy: 0.9694 - auc: 0.9917 - loss: 0.0817 - precision: 0.9496 - recall: 0.8947 - val_accuracy: 0.9686 - val_auc: 0.9914 - val_loss: 0.0844 - val_precision: 0.9395 - val_recall: 0.9011\n",
      "Epoch 8/10\n",
      "\u001b[1m39546/39546\u001b[0m \u001b[32m━━━━━━━━━━━━━━━━━━━━\u001b[0m\u001b[37m\u001b[0m \u001b[1m172s\u001b[0m 4ms/step - accuracy: 0.9706 - auc: 0.9925 - loss: 0.0780 - precision: 0.9516 - recall: 0.8989 - val_accuracy: 0.9707 - val_auc: 0.9922 - val_loss: 0.0784 - val_precision: 0.9492 - val_recall: 0.9018\n",
      "Epoch 9/10\n",
      "\u001b[1m39546/39546\u001b[0m \u001b[32m━━━━━━━━━━━━━━━━━━━━\u001b[0m\u001b[37m\u001b[0m \u001b[1m172s\u001b[0m 4ms/step - accuracy: 0.9721 - auc: 0.9929 - loss: 0.0746 - precision: 0.9534 - recall: 0.9050 - val_accuracy: 0.9698 - val_auc: 0.9934 - val_loss: 0.0790 - val_precision: 0.9186 - val_recall: 0.9315\n",
      "Epoch 10/10\n",
      "\u001b[1m39546/39546\u001b[0m \u001b[32m━━━━━━━━━━━━━━━━━━━━\u001b[0m\u001b[37m\u001b[0m \u001b[1m172s\u001b[0m 4ms/step - accuracy: 0.9732 - auc: 0.9933 - loss: 0.0718 - precision: 0.9549 - recall: 0.9089 - val_accuracy: 0.9740 - val_auc: 0.9939 - val_loss: 0.0696 - val_precision: 0.9616 - val_recall: 0.9062\n"
     ]
    }
   ],
   "source": [
    "history = resnet_model.fit(X_train_resnet, y_train, epochs=10, batch_size=32, validation_data=(X_val_resnet, y_val), verbose=1)"
   ]
  },
  {
   "cell_type": "code",
   "execution_count": 12,
   "id": "0091fc45",
   "metadata": {
    "execution": {
     "iopub.execute_input": "2025-03-21T09:44:26.231860Z",
     "iopub.status.busy": "2025-03-21T09:44:26.231432Z",
     "iopub.status.idle": "2025-03-21T09:44:32.441474Z",
     "shell.execute_reply": "2025-03-21T09:44:32.440376Z"
    },
    "papermill": {
     "duration": 7.982938,
     "end_time": "2025-03-21T09:44:32.443492",
     "exception": false,
     "start_time": "2025-03-21T09:44:24.460554",
     "status": "completed"
    },
    "tags": []
   },
   "outputs": [
    {
     "name": "stdout",
     "output_type": "stream",
     "text": [
      "  - Loss: 0.0097\n",
      "  - Precision: 0.9926\n",
      "  - Recall: 0.9988\n",
      "  - Accuracy: 0.9983\n",
      "  - AUC: 0.9995\n"
     ]
    }
   ],
   "source": [
    "results = resnet_model.evaluate(X_test_resnet, y_test, verbose=0)\n",
    "loss = results[0]\n",
    "auc = results[1]\n",
    "accuracy = results[2]\n",
    "precision = results[3]\n",
    "recall = results[4]\n",
    "print(f\"  - Loss: {loss:.4f}\")\n",
    "print(f\"  - Precision: {precision:.4f}\")\n",
    "print(f\"  - Recall: {recall:.4f}\")\n",
    "print(f\"  - Accuracy: {accuracy:.4f}\")\n",
    "print(f\"  - AUC: {auc:.4f}\")"
   ]
  },
  {
   "cell_type": "code",
   "execution_count": 13,
   "id": "48c18be3",
   "metadata": {
    "execution": {
     "iopub.execute_input": "2025-03-21T09:44:35.966518Z",
     "iopub.status.busy": "2025-03-21T09:44:35.966143Z",
     "iopub.status.idle": "2025-03-21T09:44:44.015743Z",
     "shell.execute_reply": "2025-03-21T09:44:44.014898Z"
    },
    "papermill": {
     "duration": 9.797553,
     "end_time": "2025-03-21T09:44:44.018223",
     "exception": false,
     "start_time": "2025-03-21T09:44:34.220670",
     "status": "completed"
    },
    "tags": []
   },
   "outputs": [
    {
     "name": "stdout",
     "output_type": "stream",
     "text": [
      "\u001b[1m2806/2806\u001b[0m \u001b[32m━━━━━━━━━━━━━━━━━━━━\u001b[0m\u001b[37m\u001b[0m \u001b[1m6s\u001b[0m 2ms/step\n"
     ]
    }
   ],
   "source": [
    "predictions = resnet_model.predict(X_test_resnet)"
   ]
  },
  {
   "cell_type": "code",
   "execution_count": 14,
   "id": "753a2c7a",
   "metadata": {
    "execution": {
     "iopub.execute_input": "2025-03-21T09:44:47.589139Z",
     "iopub.status.busy": "2025-03-21T09:44:47.588778Z",
     "iopub.status.idle": "2025-03-21T09:44:47.596290Z",
     "shell.execute_reply": "2025-03-21T09:44:47.595334Z"
    },
    "papermill": {
     "duration": 1.774101,
     "end_time": "2025-03-21T09:44:47.598321",
     "exception": false,
     "start_time": "2025-03-21T09:44:45.824220",
     "status": "completed"
    },
    "tags": []
   },
   "outputs": [],
   "source": [
    "def plot_metrics(metric_name, title, ylim=5):\n",
    "    plt.title(title)\n",
    "    plt.ylim(0,ylim)\n",
    "    plt.plot(history.history[metric_name],color='blue',label=metric_name)\n",
    "    plt.plot(history.history['val_' + metric_name],color='green',label='val_' + metric_name)\n",
    "\n",
    "def plot_confusion_matrix(y_true, y_pred, title='', labels=[0,1]):\n",
    "    cm = confusion_matrix(test_Y[1], np.round(type_pred), labels=[0, 1])\n",
    "    disp = ConfusionMatrixDisplay(confusion_matrix=cm,\n",
    "                                  display_labels=[0, 1])\n",
    "    disp.plot(values_format='d');\n",
    "\n",
    "def plot_diff(y_true, y_pred, title = '' ):\n",
    "    plt.scatter(y_true, y_pred)\n",
    "    plt.title(title)\n",
    "    plt.xlabel('True Values')\n",
    "    plt.ylabel('Predictions')\n",
    "    plt.axis('equal')\n",
    "    plt.axis('square')\n",
    "    plt.plot([-100, 100], [-100, 100])\n",
    "    return plt\n"
   ]
  },
  {
   "cell_type": "code",
   "execution_count": 15,
   "id": "6737b545",
   "metadata": {
    "execution": {
     "iopub.execute_input": "2025-03-21T09:44:51.138521Z",
     "iopub.status.busy": "2025-03-21T09:44:51.137531Z",
     "iopub.status.idle": "2025-03-21T09:44:51.142971Z",
     "shell.execute_reply": "2025-03-21T09:44:51.141985Z"
    },
    "papermill": {
     "duration": 1.776289,
     "end_time": "2025-03-21T09:44:51.144958",
     "exception": false,
     "start_time": "2025-03-21T09:44:49.368669",
     "status": "completed"
    },
    "tags": []
   },
   "outputs": [],
   "source": [
    "my_metrics = [\"auc\", \"accuracy\", 'precision', 'recall']"
   ]
  }
 ],
 "metadata": {
  "kaggle": {
   "accelerator": "none",
   "dataSources": [
    {
     "datasetId": 2731536,
     "sourceId": 5247694,
     "sourceType": "datasetVersion"
    }
   ],
   "dockerImageVersionId": 30804,
   "isGpuEnabled": false,
   "isInternetEnabled": true,
   "language": "python",
   "sourceType": "notebook"
  },
  "kernelspec": {
   "display_name": "Python 3",
   "language": "python",
   "name": "python3"
  },
  "language_info": {
   "codemirror_mode": {
    "name": "ipython",
    "version": 3
   },
   "file_extension": ".py",
   "mimetype": "text/x-python",
   "name": "python",
   "nbconvert_exporter": "python",
   "pygments_lexer": "ipython3",
   "version": "3.10.14"
  },
  "papermill": {
   "default_parameters": {},
   "duration": 1847.770879,
   "end_time": "2025-03-21T09:44:56.123965",
   "environment_variables": {},
   "exception": null,
   "input_path": "__notebook__.ipynb",
   "output_path": "__notebook__.ipynb",
   "parameters": {},
   "start_time": "2025-03-21T09:14:08.353086",
   "version": "2.6.0"
  }
 },
 "nbformat": 4,
 "nbformat_minor": 5
}
